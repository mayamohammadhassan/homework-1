{
 "cells": [
  {
   "cell_type": "code",
   "execution_count": 2,
   "id": "8e5ab730",
   "metadata": {},
   "outputs": [
    {
     "name": "stdout",
     "output_type": "stream",
     "text": [
      "{'HTTP': 80, 'HTTPS': 443, 'FTP': 20, 'DNS': 53}\n"
     ]
    }
   ],
   "source": [
    "def dd(k,v):\n",
    "    d=dict()\n",
    "    for i in range(len(k)):\n",
    "        d[k[i]]=v[i]\n",
    "    return d\n",
    "L1=['HTTP','HTTPS','FTP','DNS']\n",
    "L2=[80,443,20,53] \n",
    "print(dd(L1,L2))\n"
   ]
  },
  {
   "cell_type": "code",
   "execution_count": 4,
   "id": "6b495a2e",
   "metadata": {},
   "outputs": [
    {
     "name": "stdout",
     "output_type": "stream",
     "text": [
      "Enter a number 0\n",
      "The factorial of 0 is 1\n",
      "Enter a number 1\n",
      "The factorial of 1 is 1\n",
      "Enter a number 2\n",
      "The factorial of 2 is 2\n",
      "Enter a number 5\n",
      "The factorial of 5 is 120\n",
      "Enter a number 10\n",
      "The factorial of 10 is 3628800\n",
      "Enter a number a\n",
      "Error Input\n",
      "Enter a number -5\n"
     ]
    }
   ],
   "source": [
    "def func(x):\n",
    "    if x == 0:\n",
    "        return 1\n",
    "    else:\n",
    "        s=1\n",
    "        for i in range(1,x+1):\n",
    "            s*=i \n",
    "        return s\n",
    "while True:\n",
    "    try:\n",
    "        number = int(input(\"Enter a number \"))\n",
    "        if number < 0:\n",
    "            break\n",
    "        result = func(number)\n",
    "        print(f\"The factorial of {number} is {result}\")\n",
    "    except:\n",
    "        print(\"Error Input\")"
   ]
  },
  {
   "cell_type": "code",
   "execution_count": 5,
   "id": "dfb46fc3",
   "metadata": {},
   "outputs": [
    {
     "name": "stdout",
     "output_type": "stream",
     "text": [
      "Bio\n"
     ]
    }
   ],
   "source": [
    "L = ['Network', 'Bio', 'Programming', 'Physics', 'Music']\n",
    "for item in L:\n",
    "    if item.startswith('B'):\n",
    "        print(item)"
   ]
  },
  {
   "cell_type": "code",
   "execution_count": 6,
   "id": "57c2218d",
   "metadata": {},
   "outputs": [
    {
     "name": "stdout",
     "output_type": "stream",
     "text": [
      "{0: 1, 1: 2, 2: 3, 3: 4, 4: 5, 5: 6, 6: 7, 7: 8, 8: 9, 9: 10, 10: 11}\n"
     ]
    }
   ],
   "source": [
    "d = {i: i + 1 for i in range(11)}\n",
    "print(d)"
   ]
  },
  {
   "cell_type": "code",
   "execution_count": 2,
   "id": "6a008bbb",
   "metadata": {},
   "outputs": [
    {
     "name": "stdout",
     "output_type": "stream",
     "text": [
      "Enter a binary number and s to stop: 101\n",
      "The decimal of 101 is 5\n",
      "Enter a binary number and s to stop: 10101\n",
      "The decimal of 10101 is 21\n",
      "Enter a binary number and s to stop: s\n",
      "End\n"
     ]
    }
   ],
   "source": [
    "    a = input(\"Enter a binary number and s to stop: \")\n",
    "    while a != \"s\":\n",
    "        try:\n",
    "            decimal = 0\n",
    "            for i, digit in enumerate(a):\n",
    "                if digit == '1':\n",
    "                    decimal += 2 ** (len(a) - i - 1)\n",
    "            print(f\"The decimal of {a} is {decimal}\")\n",
    "        except ValueError:\n",
    "            print(\"Invalid binary number\")\n",
    "        a = input(\"Enter a binary number and s to stop: \")\n",
    "    print(\"End\")"
   ]
  },
  {
   "cell_type": "code",
   "execution_count": 3,
   "id": "354be7fb",
   "metadata": {},
   "outputs": [
    {
     "name": "stdout",
     "output_type": "stream",
     "text": [
      "enter student name: مايا محمد حسن\n",
      "1*1\n",
      "the answer is: 1\n",
      "2*2\n",
      "the answer is: 4\n",
      "3*3\n",
      "the answer is: 9\n",
      "4*4\n",
      "the answer is: 16\n",
      "1*1\n",
      "the answer is: 1\n",
      "2*2\n",
      "the answer is: 4\n",
      "3*3\n",
      "the answer is: 9\n",
      "4*4\n",
      "the answer is: 16\n",
      "1-1\n",
      "the answer is: 0\n",
      "1+1\n",
      "the answer is: 2\n",
      "5 % 3\n",
      "the answer is: 2\n",
      "0 % 3\n",
      "the answer is: 3\n",
      "2 % 1\n",
      "the answer is: 0\n",
      "2*2\n",
      "the answer is: 0\n",
      "3*3\n",
      "the answer is: 9\n",
      "0 % 3\n",
      "the answer is: 3\n",
      "2 % 1\n",
      "the answer is: 0\n",
      "4*4\n",
      "the answer is: 16\n",
      "1*1\n",
      "the answer is: 1\n",
      "2*2\n",
      "the answer is: 4\n",
      "name:  مايا محمد حسن mark:  19\n"
     ]
    }
   ],
   "source": [
    "def extractfield(filename,n):\n",
    "    infile=open(filename,\"r\")\n",
    "    return [line.rstrip().split(',')[n-1] for line in infile]\n",
    "mark=0\n",
    "name=input(\"enter student name: \")\n",
    "infile=open(\"questions.csv\",'r')\n",
    "outfile=open(\"mark.csv\",\"w\")\n",
    "questions=extractfield(\"questions.csv\",1)\n",
    "answers=extractfield(\"questions.csv\",2)\n",
    "for i in range(len(questions)):\n",
    "    print(questions[i])\n",
    "    answer=input(\"the answer is: \")\n",
    "    if answer==answers[i]:\n",
    "        mark+=1\n",
    "print(\"name: \",name,\"mark: \", mark)\n",
    "outfile.write(name+','+str(mark))\n",
    "outfile.close()\n"
   ]
  },
  {
   "cell_type": "code",
   "execution_count": 4,
   "id": "2f0725b3",
   "metadata": {},
   "outputs": [
    {
     "name": "stdout",
     "output_type": "stream",
     "text": [
      "Deposited 1000. Current balance: 1000.0\n",
      "Withdrawn 500. Current balance: 500.0\n",
      "500.0\n",
      "Deposited 400. Current balance: 400.0\n",
      "Current balance: 488.0, Interest rate: 0.22\n"
     ]
    }
   ],
   "source": [
    "class BankAccount:\n",
    "    def __init__(self, account_number, account_holder, balance=0.0):\n",
    "        self.account_number = account_number\n",
    "        self.account_holder = account_holder\n",
    "        self.balance = balance\n",
    "\n",
    "    def deposit(self, amount):\n",
    "        self.balance += amount\n",
    "        print(f\"Deposited {amount}. Current balance: {self.balance}\")\n",
    "\n",
    "    def withdraw(self, amount):\n",
    "        if amount <= self.balance:\n",
    "            self.balance -= amount\n",
    "            print(f\"Withdrawn {amount}. Current balance: {self.balance}\")\n",
    "        else:\n",
    "            print(\"Insufficient funds.\")\n",
    "\n",
    "    def get_balance(self):\n",
    "        return self.balance\n",
    "\n",
    "class SavingsAccount(BankAccount):\n",
    "    def __init__(self, account_number, account_holder, balance=0.0, interest_rate=0.01):\n",
    "        super().__init__(account_number, account_holder, balance)\n",
    "        self.interest_rate = interest_rate\n",
    "\n",
    "    def apply_interest(self):\n",
    "        self.balance += self.balance * self.interest_rate\n",
    "\n",
    "    def __str__(self):\n",
    "        return f\"Current balance: {self.balance}, Interest rate: {self.interest_rate}\"\n",
    "\n",
    "Maya=BankAccount(\"2955\",\"Maya\")\n",
    "Maya.deposit(1000)\n",
    "Maya.withdraw(500)\n",
    "print(Maya.get_balance())\n",
    "Maya_s=SavingsAccount(\"178487\",\"Maya\",interest_rate=0.22)\n",
    "Maya_s.deposit(400)\n",
    "Maya_s.apply_interest()\n",
    "\n",
    "print(Maya_s)"
   ]
  },
  {
   "cell_type": "code",
   "execution_count": null,
   "id": "d6016a41",
   "metadata": {},
   "outputs": [],
   "source": []
  }
 ],
 "metadata": {
  "kernelspec": {
   "display_name": "Python 3 (ipykernel)",
   "language": "python",
   "name": "python3"
  },
  "language_info": {
   "codemirror_mode": {
    "name": "ipython",
    "version": 3
   },
   "file_extension": ".py",
   "mimetype": "text/x-python",
   "name": "python",
   "nbconvert_exporter": "python",
   "pygments_lexer": "ipython3",
   "version": "3.11.2"
  }
 },
 "nbformat": 4,
 "nbformat_minor": 5
}
